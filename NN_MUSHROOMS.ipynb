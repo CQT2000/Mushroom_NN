{
 "cells": [
  {
   "cell_type": "code",
   "execution_count": 109,
   "metadata": {},
   "outputs": [],
   "source": [
    "import numpy as np\n",
    "from matplotlib import pyplot as plt\n",
    "%matplotlib inline\n",
    "import keras\n",
    "import pandas as pd\n",
    "\n",
    "from keras.layers import Dense, Activation, Dropout\n",
    "from keras.models import Sequential\n",
    "from keras.utils import np_utils\n",
    "from sklearn import preprocessing "
   ]
  },
  {
   "cell_type": "code",
   "execution_count": 110,
   "metadata": {},
   "outputs": [
    {
     "name": "stdout",
     "output_type": "stream",
     "text": [
      "(8124, 23)\n"
     ]
    }
   ],
   "source": [
    "#load mushrooms dataset \n",
    "ds = pd.read_csv('mushrooms.csv')\n",
    "print ds.shape\n",
    "#since mushrooms data has columns with characters instead of numbers we use labelencoder to convert them to numbers.\n",
    "ds = ds.apply(preprocessing.LabelEncoder().fit_transform)"
   ]
  },
  {
   "cell_type": "code",
   "execution_count": 111,
   "metadata": {},
   "outputs": [],
   "source": [
    "#to allow splitting\n",
    "data = ds.values"
   ]
  },
  {
   "cell_type": "code",
   "execution_count": 112,
   "metadata": {},
   "outputs": [
    {
     "name": "stdout",
     "output_type": "stream",
     "text": [
      "(6499, 22) (1625, 22)\n",
      "(6499, 2) (1625, 2)\n"
     ]
    }
   ],
   "source": [
    "#creating test data and training data\n",
    "split = int(0.80 * data.shape[0])\n",
    "\n",
    "X_train = data[:split, 1:]\n",
    "X_test = data[split:, 1:]\n",
    "\n",
    "y_train = np_utils.to_categorical(data[:split, 0])\n",
    "y_test = np_utils.to_categorical(data[split:, 0])\n",
    "\n",
    "print X_train.shape, X_test.shape\n",
    "print y_train.shape, y_test.shape"
   ]
  },
  {
   "cell_type": "code",
   "execution_count": 113,
   "metadata": {},
   "outputs": [
    {
     "name": "stdout",
     "output_type": "stream",
     "text": [
      "_________________________________________________________________\n",
      "Layer (type)                 Output Shape              Param #   \n",
      "=================================================================\n",
      "dense_42 (Dense)             (None, 16)                368       \n",
      "_________________________________________________________________\n",
      "activation_42 (Activation)   (None, 16)                0         \n",
      "_________________________________________________________________\n",
      "dropout_21 (Dropout)         (None, 16)                0         \n",
      "_________________________________________________________________\n",
      "dense_43 (Dense)             (None, 2)                 34        \n",
      "_________________________________________________________________\n",
      "activation_43 (Activation)   (None, 2)                 0         \n",
      "=================================================================\n",
      "Total params: 402\n",
      "Trainable params: 402\n",
      "Non-trainable params: 0\n",
      "_________________________________________________________________\n"
     ]
    }
   ],
   "source": [
    "#We use keras sequential model for managing our layers of neural net this means the sequence of layers we initiate is the sequence in ehich they are in the network\n",
    "model = Sequential()\n",
    "#We use one hidden layer input layer has 22 neurons we use sigmoid for activation tanh can also be used relu also\n",
    "model.add(Dense(16, input_shape=(22,)))\n",
    "model.add(Activation('sigmoid'))\n",
    "#I have used the dropout measure to keep the model generic and prevent it from overfitting.\n",
    "model.add(Dropout(0.30))\n",
    "#We can add another hidden layer if we want i have not\n",
    "'''model.add(Dense(15))\n",
    "model.add(Activation('relu'))\n",
    "model.add(Dropout(0.5))'''\n",
    "#For predictions I use softmax as it gives probabilities of which class should our instnce belong \n",
    "model.add(Dense(2))\n",
    "model.add(Activation('softmax'))\n",
    "#categorical crossentropy is the obvious choice for loss . adam has been used as an optimizer though adagrad would also be good\n",
    "model.summary()\n",
    "model.compile(loss='categorical_crossentropy', optimizer='adam', metrics=['accuracy'])"
   ]
  },
  {
   "cell_type": "code",
   "execution_count": 114,
   "metadata": {
    "scrolled": true
   },
   "outputs": [
    {
     "name": "stdout",
     "output_type": "stream",
     "text": [
      "Train on 6499 samples, validate on 1625 samples\n",
      "Epoch 1/10\n",
      "6499/6499 [==============================] - 1s - loss: 0.7088 - acc: 0.5327 - val_loss: 0.6487 - val_acc: 0.5815\n",
      "Epoch 2/10\n",
      "6499/6499 [==============================] - 0s - loss: 0.6069 - acc: 0.6850 - val_loss: 0.4756 - val_acc: 0.9631\n",
      "Epoch 3/10\n",
      "6499/6499 [==============================] - 0s - loss: 0.5328 - acc: 0.7672 - val_loss: 0.3789 - val_acc: 0.9588\n",
      "Epoch 4/10\n",
      "6499/6499 [==============================] - 0s - loss: 0.4792 - acc: 0.7977 - val_loss: 0.3344 - val_acc: 0.9662\n",
      "Epoch 5/10\n",
      "6499/6499 [==============================] - 0s - loss: 0.4395 - acc: 0.8212 - val_loss: 0.2909 - val_acc: 0.9618\n",
      "Epoch 6/10\n",
      "6499/6499 [==============================] - 0s - loss: 0.4075 - acc: 0.8384 - val_loss: 0.2668 - val_acc: 0.9625\n",
      "Epoch 7/10\n",
      "6499/6499 [==============================] - 0s - loss: 0.3814 - acc: 0.8440 - val_loss: 0.2492 - val_acc: 0.9686\n",
      "Epoch 8/10\n",
      "6499/6499 [==============================] - 0s - loss: 0.3548 - acc: 0.8535 - val_loss: 0.2302 - val_acc: 0.9631\n",
      "Epoch 9/10\n",
      "6499/6499 [==============================] - 0s - loss: 0.3292 - acc: 0.8704 - val_loss: 0.2228 - val_acc: 0.9668\n",
      "Epoch 10/10\n",
      "6499/6499 [==============================] - 0s - loss: 0.3148 - acc: 0.8758 - val_loss: 0.2220 - val_acc: 0.9668\n"
     ]
    }
   ],
   "source": [
    "#I am running it for 10 epochs .\n",
    "hist = model.fit(X_train, y_train,\n",
    "                epochs=10,\n",
    "                shuffle=True,\n",
    "                batch_size=100,\n",
    "                validation_data=(X_test, y_test))"
   ]
  },
  {
   "cell_type": "code",
   "execution_count": null,
   "metadata": {
    "collapsed": true
   },
   "outputs": [],
   "source": []
  },
  {
   "cell_type": "code",
   "execution_count": null,
   "metadata": {
    "collapsed": true
   },
   "outputs": [],
   "source": []
  },
  {
   "cell_type": "code",
   "execution_count": null,
   "metadata": {
    "collapsed": true
   },
   "outputs": [],
   "source": []
  },
  {
   "cell_type": "code",
   "execution_count": null,
   "metadata": {
    "collapsed": true
   },
   "outputs": [],
   "source": []
  },
  {
   "cell_type": "code",
   "execution_count": null,
   "metadata": {
    "collapsed": true
   },
   "outputs": [],
   "source": []
  }
 ],
 "metadata": {
  "kernelspec": {
   "display_name": "Python 2",
   "language": "python",
   "name": "python2"
  },
  "language_info": {
   "codemirror_mode": {
    "name": "ipython",
    "version": 2
   },
   "file_extension": ".py",
   "mimetype": "text/x-python",
   "name": "python",
   "nbconvert_exporter": "python",
   "pygments_lexer": "ipython2",
   "version": "2.7.13"
  }
 },
 "nbformat": 4,
 "nbformat_minor": 2
}
